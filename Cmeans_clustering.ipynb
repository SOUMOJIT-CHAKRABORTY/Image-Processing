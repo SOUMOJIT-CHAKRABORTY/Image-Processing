{
 "cells": [
  {
   "cell_type": "code",
   "execution_count": 1,
   "id": "960fe22b",
   "metadata": {},
   "outputs": [],
   "source": [
    "%matplotlib inline\n",
    "import numpy as np\n",
    "from fcmeans import FCM\n",
    "from matplotlib import pyplot as plt\n",
    "import cv2"
   ]
  },
  {
   "cell_type": "code",
   "execution_count": 2,
   "id": "e84ee5f0",
   "metadata": {},
   "outputs": [
    {
     "data": {
      "text/plain": [
       "array([[-2.36499649, -2.71107369],\n",
       "       [-1.92396964, -2.20017245],\n",
       "       [-3.62242998, -0.01220148],\n",
       "       ...,\n",
       "       [ 1.47125825,  0.17669333],\n",
       "       [ 2.319939  ,  1.63147033],\n",
       "       [ 1.19678138,  1.3925564 ]])"
      ]
     },
     "execution_count": 2,
     "metadata": {},
     "output_type": "execute_result"
    }
   ],
   "source": [
    "n_samples = 3000\n",
    "\n",
    "X = np.concatenate((\n",
    "    np.random.normal((-2, -2), size=(n_samples, 2)),\n",
    "    np.random.normal((2, 2), size=(n_samples, 2))\n",
    "))\n",
    "X"
   ]
  },
  {
   "cell_type": "code",
   "execution_count": 3,
   "id": "bd339385",
   "metadata": {},
   "outputs": [],
   "source": [
    "fcm = FCM(n_clusters=2)\n",
    "fcm.fit(X)"
   ]
  },
  {
   "cell_type": "code",
   "execution_count": null,
   "id": "c6c38eb3",
   "metadata": {},
   "outputs": [],
   "source": []
  }
 ],
 "metadata": {
  "kernelspec": {
   "display_name": "Python 3 (ipykernel)",
   "language": "python",
   "name": "python3"
  },
  "language_info": {
   "codemirror_mode": {
    "name": "ipython",
    "version": 3
   },
   "file_extension": ".py",
   "mimetype": "text/x-python",
   "name": "python",
   "nbconvert_exporter": "python",
   "pygments_lexer": "ipython3",
   "version": "3.9.12"
  }
 },
 "nbformat": 4,
 "nbformat_minor": 5
}
