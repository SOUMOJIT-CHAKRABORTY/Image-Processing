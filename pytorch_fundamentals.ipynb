{
  "nbformat": 4,
  "nbformat_minor": 0,
  "metadata": {
    "colab": {
      "provenance": [],
      "toc_visible": true,
      "authorship_tag": "ABX9TyNCEO7P8qbuEObkkwc4oY0i",
      "include_colab_link": true
    },
    "kernelspec": {
      "name": "python3",
      "display_name": "Python 3"
    },
    "language_info": {
      "name": "python"
    }
  },
  "cells": [
    {
      "cell_type": "markdown",
      "metadata": {
        "id": "view-in-github",
        "colab_type": "text"
      },
      "source": [
        "<a href=\"https://colab.research.google.com/github/SOUMOJIT-CHAKRABORTY/Image-Processing/blob/main/pytorch_fundamentals.ipynb\" target=\"_parent\"><img src=\"https://colab.research.google.com/assets/colab-badge.svg\" alt=\"Open In Colab\"/></a>"
      ]
    },
    {
      "cell_type": "code",
      "execution_count": null,
      "metadata": {
        "colab": {
          "base_uri": "https://localhost:8080/"
        },
        "id": "cgflJybu0kUk",
        "outputId": "21fc9b9c-64da-4982-8146-cbd8cfe8a0ba"
      },
      "outputs": [
        {
          "output_type": "stream",
          "name": "stdout",
          "text": [
            "Tue Sep 27 16:44:31 2022       \n",
            "+-----------------------------------------------------------------------------+\n",
            "| NVIDIA-SMI 460.32.03    Driver Version: 460.32.03    CUDA Version: 11.2     |\n",
            "|-------------------------------+----------------------+----------------------+\n",
            "| GPU  Name        Persistence-M| Bus-Id        Disp.A | Volatile Uncorr. ECC |\n",
            "| Fan  Temp  Perf  Pwr:Usage/Cap|         Memory-Usage | GPU-Util  Compute M. |\n",
            "|                               |                      |               MIG M. |\n",
            "|===============================+======================+======================|\n",
            "|   0  Tesla T4            Off  | 00000000:00:04.0 Off |                    0 |\n",
            "| N/A   53C    P8    10W /  70W |      0MiB / 15109MiB |      0%      Default |\n",
            "|                               |                      |                  N/A |\n",
            "+-------------------------------+----------------------+----------------------+\n",
            "                                                                               \n",
            "+-----------------------------------------------------------------------------+\n",
            "| Processes:                                                                  |\n",
            "|  GPU   GI   CI        PID   Type   Process name                  GPU Memory |\n",
            "|        ID   ID                                                   Usage      |\n",
            "|=============================================================================|\n",
            "|  No running processes found                                                 |\n",
            "+-----------------------------------------------------------------------------+\n"
          ]
        }
      ],
      "source": [
        "!nvidia-smi"
      ]
    },
    {
      "cell_type": "code",
      "source": [
        "import torch\n",
        "import numpy as np\n",
        "import pandas as pd\n",
        "import matplotlib.pyplot as plt\n",
        "\n",
        "\n",
        "print(torch.__version__)"
      ],
      "metadata": {
        "colab": {
          "base_uri": "https://localhost:8080/"
        },
        "id": "lybviNyD1Z02",
        "outputId": "8df01f12-a8e3-479f-9bbf-367f96d9177d"
      },
      "execution_count": null,
      "outputs": [
        {
          "output_type": "stream",
          "name": "stdout",
          "text": [
            "1.12.1+cu113\n"
          ]
        }
      ]
    },
    {
      "cell_type": "markdown",
      "source": [
        "#Creating Tensor\n",
        "\n",
        "Pytorch tensor is created using torch.tensor()"
      ],
      "metadata": {
        "id": "2F4N39M_6NvW"
      }
    },
    {
      "cell_type": "markdown",
      "source": [
        "scalar --> lower ,\n",
        "vector --> lower ,\n",
        "MATRIX --> UPPER , \n",
        "TENSOR --> UPPER."
      ],
      "metadata": {
        "id": "WpMS517A_Em_"
      }
    },
    {
      "cell_type": "code",
      "source": [
        "# Scalar\n",
        "scalar = torch.tensor(8)"
      ],
      "metadata": {
        "id": "r6Gr5iNL6f_w"
      },
      "execution_count": null,
      "outputs": []
    },
    {
      "cell_type": "code",
      "source": [
        "scalar.ndim"
      ],
      "metadata": {
        "colab": {
          "base_uri": "https://localhost:8080/"
        },
        "id": "ph0yinW18C80",
        "outputId": "74626a0f-ed04-4bd1-d326-36de1f31b046"
      },
      "execution_count": null,
      "outputs": [
        {
          "output_type": "execute_result",
          "data": {
            "text/plain": [
              "0"
            ]
          },
          "metadata": {},
          "execution_count": 3
        }
      ]
    },
    {
      "cell_type": "code",
      "source": [
        "# Get tensor back as Python int\n",
        "\n",
        "scalar.item()"
      ],
      "metadata": {
        "colab": {
          "base_uri": "https://localhost:8080/"
        },
        "id": "xPGGTHjV8GHI",
        "outputId": "3b39ebc2-34ba-4637-98a4-cb7ecbeebdbc"
      },
      "execution_count": null,
      "outputs": [
        {
          "output_type": "execute_result",
          "data": {
            "text/plain": [
              "8"
            ]
          },
          "metadata": {},
          "execution_count": 6
        }
      ]
    },
    {
      "cell_type": "code",
      "source": [
        "# Vector\n",
        "vector = torch.tensor([10,12])\n",
        "vector"
      ],
      "metadata": {
        "colab": {
          "base_uri": "https://localhost:8080/"
        },
        "id": "kvq-BmVi8JTb",
        "outputId": "0c772134-cdcb-4332-9111-89939cc18c2a"
      },
      "execution_count": null,
      "outputs": [
        {
          "output_type": "execute_result",
          "data": {
            "text/plain": [
              "tensor([10, 12])"
            ]
          },
          "metadata": {},
          "execution_count": 9
        }
      ]
    },
    {
      "cell_type": "code",
      "source": [
        "vector.ndim"
      ],
      "metadata": {
        "colab": {
          "base_uri": "https://localhost:8080/"
        },
        "id": "qBH41OEL8bla",
        "outputId": "f0e0d48a-4f00-4389-90b5-a6847124366d"
      },
      "execution_count": null,
      "outputs": [
        {
          "output_type": "execute_result",
          "data": {
            "text/plain": [
              "1"
            ]
          },
          "metadata": {},
          "execution_count": 8
        }
      ]
    },
    {
      "cell_type": "code",
      "source": [
        "# Size of the vector\n",
        "vector.shape"
      ],
      "metadata": {
        "colab": {
          "base_uri": "https://localhost:8080/"
        },
        "id": "wkH5XUk-8d-e",
        "outputId": "15338543-aaee-46f4-d9e1-edae9c69c414"
      },
      "execution_count": null,
      "outputs": [
        {
          "output_type": "execute_result",
          "data": {
            "text/plain": [
              "torch.Size([2])"
            ]
          },
          "metadata": {},
          "execution_count": 11
        }
      ]
    },
    {
      "cell_type": "code",
      "source": [
        "# Matrix\n",
        "matrix = torch.tensor([[5,8],[10,4]])\n",
        "matrix"
      ],
      "metadata": {
        "colab": {
          "base_uri": "https://localhost:8080/"
        },
        "id": "jlb1Zcec8npj",
        "outputId": "cdbcbb37-fd25-4010-8fbc-b7ece23c0354"
      },
      "execution_count": null,
      "outputs": [
        {
          "output_type": "execute_result",
          "data": {
            "text/plain": [
              "tensor([[ 5,  8],\n",
              "        [10,  4]])"
            ]
          },
          "metadata": {},
          "execution_count": 13
        }
      ]
    },
    {
      "cell_type": "code",
      "source": [
        "matrix.ndim"
      ],
      "metadata": {
        "colab": {
          "base_uri": "https://localhost:8080/"
        },
        "id": "h2vep4mi86bJ",
        "outputId": "c3659649-a3f5-4150-d7e3-41e37e193198"
      },
      "execution_count": null,
      "outputs": [
        {
          "output_type": "execute_result",
          "data": {
            "text/plain": [
              "2"
            ]
          },
          "metadata": {},
          "execution_count": 14
        }
      ]
    },
    {
      "cell_type": "code",
      "source": [
        "matrix[0]"
      ],
      "metadata": {
        "colab": {
          "base_uri": "https://localhost:8080/"
        },
        "id": "xrykmZ0L9GWs",
        "outputId": "65295c71-31c5-49e7-c1f4-2cfe947eefae"
      },
      "execution_count": null,
      "outputs": [
        {
          "output_type": "execute_result",
          "data": {
            "text/plain": [
              "tensor([5, 8])"
            ]
          },
          "metadata": {},
          "execution_count": 15
        }
      ]
    },
    {
      "cell_type": "code",
      "source": [
        "matrix.shape"
      ],
      "metadata": {
        "colab": {
          "base_uri": "https://localhost:8080/"
        },
        "id": "8c9bizTh9IaX",
        "outputId": "9d9b4209-901f-4067-d84f-b91c65ba1f4d"
      },
      "execution_count": null,
      "outputs": [
        {
          "output_type": "execute_result",
          "data": {
            "text/plain": [
              "torch.Size([2, 2])"
            ]
          },
          "metadata": {},
          "execution_count": 17
        }
      ]
    },
    {
      "cell_type": "code",
      "source": [
        "# Tensor\n",
        "tensor = torch.tensor([[[3,5,7],[8,5,9],[10,14,13]]])\n",
        "tensor"
      ],
      "metadata": {
        "colab": {
          "base_uri": "https://localhost:8080/"
        },
        "id": "tg1feMii9PMn",
        "outputId": "d2ee1d3c-f841-41c3-c6a3-7a0954e0de74"
      },
      "execution_count": null,
      "outputs": [
        {
          "output_type": "execute_result",
          "data": {
            "text/plain": [
              "tensor([[[ 3,  5,  7],\n",
              "         [ 8,  5,  9],\n",
              "         [10, 14, 13]]])"
            ]
          },
          "metadata": {},
          "execution_count": 18
        }
      ]
    },
    {
      "cell_type": "code",
      "source": [
        "tensor.ndim"
      ],
      "metadata": {
        "colab": {
          "base_uri": "https://localhost:8080/"
        },
        "id": "FIBSGtfB9u7F",
        "outputId": "25fc7219-443c-40a6-9eba-2fa6edf1e88a"
      },
      "execution_count": null,
      "outputs": [
        {
          "output_type": "execute_result",
          "data": {
            "text/plain": [
              "3"
            ]
          },
          "metadata": {},
          "execution_count": 19
        }
      ]
    },
    {
      "cell_type": "code",
      "source": [
        "tensor.shape"
      ],
      "metadata": {
        "colab": {
          "base_uri": "https://localhost:8080/"
        },
        "id": "nQ33CPGD97Og",
        "outputId": "91305508-0a3b-45f5-c88c-69a988b2a279"
      },
      "execution_count": null,
      "outputs": [
        {
          "output_type": "execute_result",
          "data": {
            "text/plain": [
              "torch.Size([1, 3, 3])"
            ]
          },
          "metadata": {},
          "execution_count": 20
        }
      ]
    },
    {
      "cell_type": "code",
      "source": [
        "tensor[0]"
      ],
      "metadata": {
        "colab": {
          "base_uri": "https://localhost:8080/"
        },
        "id": "abJiNhFw99cY",
        "outputId": "ec902f18-0fe0-4060-d49d-a4a4672db67b"
      },
      "execution_count": null,
      "outputs": [
        {
          "output_type": "execute_result",
          "data": {
            "text/plain": [
              "tensor([[ 3,  5,  7],\n",
              "        [ 8,  5,  9],\n",
              "        [10, 14, 13]])"
            ]
          },
          "metadata": {},
          "execution_count": 24
        }
      ]
    },
    {
      "cell_type": "markdown",
      "source": [
        "### Random Tensors"
      ],
      "metadata": {
        "id": "S4OCGS-d_fBW"
      }
    },
    {
      "cell_type": "code",
      "source": [
        "# Random Tensor of size of (3,4)\n",
        "random_tensor = torch.rand(3,4)\n",
        "random_tensor"
      ],
      "metadata": {
        "colab": {
          "base_uri": "https://localhost:8080/"
        },
        "id": "tHced1st-JBl",
        "outputId": "f12c8f42-5983-43a6-e764-94e755806c09"
      },
      "execution_count": null,
      "outputs": [
        {
          "output_type": "execute_result",
          "data": {
            "text/plain": [
              "tensor([[0.6069, 0.0848, 0.0111, 0.9929],\n",
              "        [0.4934, 0.5849, 0.4757, 0.7869],\n",
              "        [0.5777, 0.0258, 0.7028, 0.6971]])"
            ]
          },
          "metadata": {},
          "execution_count": 31
        }
      ]
    },
    {
      "cell_type": "code",
      "source": [
        "random_tensor.ndim"
      ],
      "metadata": {
        "colab": {
          "base_uri": "https://localhost:8080/"
        },
        "id": "KjKhXqnzAos6",
        "outputId": "f7d0ebb6-1d68-447d-9fb9-792cc5305831"
      },
      "execution_count": null,
      "outputs": [
        {
          "output_type": "execute_result",
          "data": {
            "text/plain": [
              "2"
            ]
          },
          "metadata": {},
          "execution_count": 32
        }
      ]
    },
    {
      "cell_type": "code",
      "source": [
        "random_tensor.shape"
      ],
      "metadata": {
        "colab": {
          "base_uri": "https://localhost:8080/"
        },
        "id": "1sArtXoiAtCZ",
        "outputId": "42a36f60-f0db-4036-bfc3-4ef7f13c14bb"
      },
      "execution_count": null,
      "outputs": [
        {
          "output_type": "execute_result",
          "data": {
            "text/plain": [
              "torch.Size([3, 4])"
            ]
          },
          "metadata": {},
          "execution_count": 33
        }
      ]
    },
    {
      "cell_type": "code",
      "source": [
        "# Create a random tensor with similar shape to an image tensor\n",
        "random_tensor_image_size = torch.rand(3,224,224) # image size would be [hight , width , no. of color] ={r , g , b}\n",
        "random_tensor_image_size "
      ],
      "metadata": {
        "colab": {
          "base_uri": "https://localhost:8080/"
        },
        "id": "rRpb8nyeAwwo",
        "outputId": "3a192f96-a6fa-42d9-82ae-d4dc392249a9"
      },
      "execution_count": null,
      "outputs": [
        {
          "output_type": "execute_result",
          "data": {
            "text/plain": [
              "tensor([[[0.0163, 0.1988, 0.0165,  ..., 0.6296, 0.0727, 0.2136],\n",
              "         [0.8880, 0.1001, 0.9465,  ..., 0.6870, 0.2533, 0.6304],\n",
              "         [0.6486, 0.3404, 0.4551,  ..., 0.2316, 0.3728, 0.6635],\n",
              "         ...,\n",
              "         [0.5308, 0.1346, 0.2403,  ..., 0.5855, 0.8235, 0.4582],\n",
              "         [0.5478, 0.0139, 0.3423,  ..., 0.3118, 0.3620, 0.9843],\n",
              "         [0.9642, 0.8355, 0.5001,  ..., 0.4152, 0.3746, 0.5330]],\n",
              "\n",
              "        [[0.8346, 0.7045, 0.4033,  ..., 0.9908, 0.9721, 0.8471],\n",
              "         [0.8852, 0.1214, 0.1789,  ..., 0.5294, 0.3662, 0.9248],\n",
              "         [0.6078, 0.9255, 0.0024,  ..., 0.4142, 0.4965, 0.8510],\n",
              "         ...,\n",
              "         [0.4412, 0.0518, 0.2541,  ..., 0.6628, 0.5670, 0.1240],\n",
              "         [0.5180, 0.8192, 0.4124,  ..., 0.2317, 0.2668, 0.3705],\n",
              "         [0.7992, 0.4719, 0.8070,  ..., 0.8990, 0.1084, 0.0827]],\n",
              "\n",
              "        [[0.2678, 0.3399, 0.0085,  ..., 0.0650, 0.5928, 0.6925],\n",
              "         [0.0458, 0.6294, 0.8280,  ..., 0.3678, 0.1656, 0.2474],\n",
              "         [0.3080, 0.0679, 0.4487,  ..., 0.2028, 0.7819, 0.2529],\n",
              "         ...,\n",
              "         [0.6964, 0.2683, 0.6424,  ..., 0.7073, 0.6998, 0.8031],\n",
              "         [0.7762, 0.9755, 0.0719,  ..., 0.8167, 0.1821, 0.2995],\n",
              "         [0.7305, 0.6491, 0.5322,  ..., 0.0789, 0.0098, 0.5468]]])"
            ]
          },
          "metadata": {},
          "execution_count": 34
        }
      ]
    },
    {
      "cell_type": "code",
      "source": [
        "random_tensor_image_size.shape , random_tensor_image_size.ndim "
      ],
      "metadata": {
        "colab": {
          "base_uri": "https://localhost:8080/"
        },
        "id": "tpk5BeaoCVJj",
        "outputId": "e639080e-3954-4669-c36b-c2e9ae6b4006"
      },
      "execution_count": null,
      "outputs": [
        {
          "output_type": "execute_result",
          "data": {
            "text/plain": [
              "(torch.Size([3, 224, 224]), 3)"
            ]
          },
          "metadata": {},
          "execution_count": 37
        }
      ]
    },
    {
      "cell_type": "code",
      "source": [],
      "metadata": {
        "id": "TE1GyCoqCZZ5"
      },
      "execution_count": null,
      "outputs": []
    },
    {
      "cell_type": "markdown",
      "source": [
        "## Tensor of zeros and ones\n"
      ],
      "metadata": {
        "id": "7QyOraUNgypz"
      }
    },
    {
      "cell_type": "code",
      "source": [
        "#creating tensor of zeros\n",
        "zeros = torch.zeros(3,4)\n",
        "zeros"
      ],
      "metadata": {
        "colab": {
          "base_uri": "https://localhost:8080/"
        },
        "id": "aAHsa6usg-kf",
        "outputId": "e8ed7c78-a94f-44db-be0a-5fa682b49fef"
      },
      "execution_count": null,
      "outputs": [
        {
          "output_type": "execute_result",
          "data": {
            "text/plain": [
              "tensor([[0., 0., 0., 0.],\n",
              "        [0., 0., 0., 0.],\n",
              "        [0., 0., 0., 0.]])"
            ]
          },
          "metadata": {},
          "execution_count": 3
        }
      ]
    },
    {
      "cell_type": "code",
      "source": [
        "#creating tensors of ones\n",
        "ones = torch.ones(3,4)\n",
        "ones"
      ],
      "metadata": {
        "colab": {
          "base_uri": "https://localhost:8080/"
        },
        "id": "bH4f4ipVhKwU",
        "outputId": "5a19c29a-88c6-4579-85ab-7dc63de77054"
      },
      "execution_count": null,
      "outputs": [
        {
          "output_type": "execute_result",
          "data": {
            "text/plain": [
              "tensor([[1., 1., 1., 1.],\n",
              "        [1., 1., 1., 1.],\n",
              "        [1., 1., 1., 1.]])"
            ]
          },
          "metadata": {},
          "execution_count": 4
        }
      ]
    },
    {
      "cell_type": "code",
      "source": [
        "zeros*ones\n",
        "ones.dtype,zeros.dtype"
      ],
      "metadata": {
        "id": "Pq-tav3BhfKg"
      },
      "execution_count": null,
      "outputs": []
    },
    {
      "cell_type": "markdown",
      "source": [
        "## Creating a range of tensor and tensor-like"
      ],
      "metadata": {
        "id": "weMMyO7uD65z"
      }
    },
    {
      "cell_type": "code",
      "source": [
        "#using torch.arange()\n",
        "torch.arange(9)"
      ],
      "metadata": {
        "id": "usawLxNchjFv",
        "colab": {
          "base_uri": "https://localhost:8080/"
        },
        "outputId": "4eb47bfb-1cae-4655-b62b-834d4c2127e1"
      },
      "execution_count": null,
      "outputs": [
        {
          "output_type": "execute_result",
          "data": {
            "text/plain": [
              "tensor([0, 1, 2, 3, 4, 5, 6, 7, 8])"
            ]
          },
          "metadata": {},
          "execution_count": 6
        }
      ]
    },
    {
      "cell_type": "code",
      "source": [
        "torch.arange(start=0, end=100, step = 4)"
      ],
      "metadata": {
        "colab": {
          "base_uri": "https://localhost:8080/"
        },
        "id": "vews9ggZD0QG",
        "outputId": "c6178c81-585f-4009-8b89-2a790b8853cd"
      },
      "execution_count": null,
      "outputs": [
        {
          "output_type": "execute_result",
          "data": {
            "text/plain": [
              "tensor([ 0,  4,  8, 12, 16, 20, 24, 28, 32, 36, 40, 44, 48, 52, 56, 60, 64, 68,\n",
              "        72, 76, 80, 84, 88, 92, 96])"
            ]
          },
          "metadata": {},
          "execution_count": 7
        }
      ]
    },
    {
      "cell_type": "code",
      "source": [
        "# creating tensor like\n",
        "zero_to_ten = torch.arange(start=0, end=10)\n",
        "ten_zeros = torch.zeros_like(zero_to_ten)\n",
        "ten_zeros"
      ],
      "metadata": {
        "colab": {
          "base_uri": "https://localhost:8080/"
        },
        "id": "bNPEmni0EviP",
        "outputId": "f7a9a1c5-5ef2-49d6-abb8-1bce9e6ed83f"
      },
      "execution_count": null,
      "outputs": [
        {
          "output_type": "execute_result",
          "data": {
            "text/plain": [
              "tensor([0, 0, 0, 0, 0, 0, 0, 0, 0, 0])"
            ]
          },
          "metadata": {},
          "execution_count": 14
        }
      ]
    },
    {
      "cell_type": "code",
      "source": [],
      "metadata": {
        "id": "73XkQEUrGAWA"
      },
      "execution_count": null,
      "outputs": []
    },
    {
      "cell_type": "markdown",
      "source": [
        "## Tensor datatypes\n",
        "\n",
        "**Note** Tensor datatypes is one of the three big issues with pytorch and deep learning\n",
        "\n",
        "1. Tensor not right datatype\n",
        "2. Tensor not right shape\n",
        "3. Tensor not on the right device\n",
        "\n"
      ],
      "metadata": {
        "id": "Ncn6FFaoIuuM"
      }
    },
    {
      "cell_type": "code",
      "source": [
        "#float32 tensor\n",
        "float_32_tensor = torch.tensor([3.0,6.0,9.0],\n",
        "                               dtype=None, # what datatype is the tensor\n",
        "                               device=None, # what device is your tensor on\n",
        "                               requires_grad=False) # whether or not to track gradients\n",
        "float_32_tensor"
      ],
      "metadata": {
        "colab": {
          "base_uri": "https://localhost:8080/"
        },
        "id": "iiz7vgByIyOi",
        "outputId": "539c00eb-325c-4901-be8b-8c2d0b3916af"
      },
      "execution_count": null,
      "outputs": [
        {
          "output_type": "execute_result",
          "data": {
            "text/plain": [
              "tensor([3., 6., 9.])"
            ]
          },
          "metadata": {},
          "execution_count": 24
        }
      ]
    },
    {
      "cell_type": "code",
      "source": [
        "float_32_tensor.dtype"
      ],
      "metadata": {
        "colab": {
          "base_uri": "https://localhost:8080/"
        },
        "id": "TXXnfF80JU80",
        "outputId": "51ae0bc5-531c-4020-d51c-848ed2b153cb"
      },
      "execution_count": null,
      "outputs": [
        {
          "output_type": "execute_result",
          "data": {
            "text/plain": [
              "torch.float32"
            ]
          },
          "metadata": {},
          "execution_count": 23
        }
      ]
    },
    {
      "cell_type": "code",
      "source": [],
      "metadata": {
        "id": "3DfzEs3IJb1R"
      },
      "execution_count": null,
      "outputs": []
    }
  ]
}